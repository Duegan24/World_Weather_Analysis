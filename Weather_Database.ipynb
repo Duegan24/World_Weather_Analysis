{
 "cells": [
  {
   "cell_type": "code",
   "execution_count": 28,
   "metadata": {},
   "outputs": [],
   "source": [
    "# Import the dependencies.\n",
    "import pandas as pd\n",
    "import os\n",
    "import matplotlib.pyplot as plt\n",
    "import numpy as np\n",
    "from citipy import citipy\n",
    "import requests, time\n",
    "from config import weather_api_key\n",
    "from datetime import datetime"
   ]
  },
  {
   "cell_type": "code",
   "execution_count": 2,
   "metadata": {},
   "outputs": [],
   "source": [
    "# Create a set of random latitude and longitude combinations.\n",
    "lats = np.random.uniform(low=-90.000, high=90.000, size=1500)\n",
    "lngs = np.random.uniform(low=-180.000, high=180.000, size=1500)\n",
    "lat_lngs = zip(lats, lngs)\n",
    "\n",
    "# Add the latitudes and longitudes to a list.\n",
    "coordinates = list(lat_lngs)"
   ]
  },
  {
   "cell_type": "code",
   "execution_count": 5,
   "metadata": {},
   "outputs": [
    {
     "data": {
      "text/plain": [
       "597"
      ]
     },
     "execution_count": 5,
     "metadata": {},
     "output_type": "execute_result"
    }
   ],
   "source": [
    "# Create a list for holding the cities.\n",
    "cities = []\n",
    "\n",
    "# Starting URL for Weather Map API Call.\n",
    "url = \"https://api.openweathermap.org/data/2.5/weather?units=Imperial&APPID=\" + weather_api_key\n",
    "\n",
    "# Identify the nearest city for each latitude and longitude combination.\n",
    "for coordinate in coordinates:\n",
    "    city = citipy.nearest_city(coordinate[0], coordinate[1]).city_name\n",
    "    \n",
    "    # If the city is unique, then we will add it to the cities list.\n",
    "    if city not in cities:\n",
    "        cities.append(city)\n",
    "        \n",
    "# Print the city count to confirm sufficient count.\n",
    "len(cities)"
   ]
  },
  {
   "cell_type": "code",
   "execution_count": 73,
   "metadata": {},
   "outputs": [
    {
     "name": "stdout",
     "output_type": "stream",
     "text": [
      "Beginning Data Retrieval    \n",
      "----------------------------\n",
      "Processing Set 2\n",
      "Processing Set 3\n",
      "Processing Set 4\n",
      "Processing Set 5\n",
      "Processing Set 6\n",
      "Processing Set 7\n",
      "Processing Set 8\n",
      "Processing Set 9\n",
      "Processing Set 10\n",
      "Processing Set 11\n",
      "Processing Set 12\n",
      "-----------------------------\n",
      "Data Retrieval Complete      \n",
      "-----------------------------\n"
     ]
    }
   ],
   "source": [
    "# Initiate a dictionary of cities not found and error code\n",
    "cities_not_located = {}\n",
    "\n",
    "# Initiate list for city data\n",
    "city_data = []\n",
    "\n",
    "# Print the beginning of the logging.\n",
    "print(\"Beginning Data Retrieval    \")\n",
    "print(\"----------------------------\")\n",
    "\n",
    "\n",
    "# Create counters\n",
    "record_count = 1\n",
    "set_count = 1\n",
    "\n",
    "# Loop through all the cities in our list.\n",
    "for i, city in enumerate(cities):\n",
    "    \n",
    "    #Group cities in sets of 50 for logging purposes\n",
    "    if (i % 50 == 0 and i >=50):\n",
    "        set_count += 1\n",
    "        record_count = 1\n",
    "        print(f\"Processing Set {set_count}\")\n",
    "\n",
    "#     if set_count == 2:\n",
    "#         break\n",
    "        \n",
    "        \n",
    "    # Create endpoint URL with each city.\n",
    "    city_url = url + \"&q=\" + city\n",
    "    \n",
    "    # log the URL, record, and set numbers and the city\n",
    "    # print(f\"Processing Record {record_count} of Set {set_count} | {city}\")\n",
    "    # Add 1 to the record count\n",
    "    record_count += 1\n",
    "\n",
    "    # Run an API request for each of the cities.\n",
    "    try:\n",
    "        # Parse the JSON and retrieve data.\n",
    "        city_weather = requests.get(city_url).json()\n",
    "        # Parse out the needed data.\n",
    "        city_lat = city_weather[\"coord\"][\"lat\"]\n",
    "        city_lng = city_weather[\"coord\"][\"lon\"]\n",
    "        city_max_temp = city_weather[\"main\"][\"temp_max\"]\n",
    "        city_humidity = city_weather[\"main\"][\"humidity\"]\n",
    "        city_clouds = city_weather[\"clouds\"][\"all\"]\n",
    "        city_wind = city_weather[\"wind\"][\"speed\"]\n",
    "        city_weather_desc = city_weather[\"weather\"][0][\"description\"]\n",
    "        city_country = city_weather[\"sys\"][\"country\"]\n",
    "\n",
    "        # Conditionals for rain\n",
    "        try:\n",
    "            city_rainfall = city_weather[\"rain\"][\"1h\"]\n",
    "        except:\n",
    "            city_rainfall = 0\n",
    "            pass\n",
    "\n",
    "        # Conditional for snow\n",
    "        try:\n",
    "            city_snowfall = city_weather[\"snow\"][\"1h\"]\n",
    "        except:\n",
    "            city_snowfall = 0\n",
    "            pass\n",
    "\n",
    "        # Convert the date to ISO standard.\n",
    "        city_date = datetime.utcfromtimestamp(city_weather[\"dt\"]).strftime('%Y-%m-%d %H:%M:%S')\n",
    "        # Append the city information into city_data list.\n",
    "        city_data.append({\"City\": city.title(),\n",
    "                          \"Lat\": city_lat,\n",
    "                          \"Lng\": city_lng,          \n",
    "                          \"Max Temp\": city_max_temp,\n",
    "                          \"Humidity\": city_humidity,\n",
    "                          \"Cloudiness\": city_clouds,\n",
    "                          \"Wind Speed\": city_wind,\n",
    "                          \"Weather Description\": city_weather_desc,\n",
    "                          \"Rainfall\": city_rainfall,\n",
    "                          \"Snowfall\": city_snowfall,                          \n",
    "                          \"Country\": city_country,\n",
    "                          \"Date\": city_date})\n",
    "    #If an error is experienced, skip the city.\n",
    "    except:\n",
    "        err = sys.exc_info()[0]\n",
    "        cities_not_located[i]=({\"City\":city,\"Error Code\":err})\n",
    "#         print(\"City not found. Skipping...\")\n",
    "        pass\n",
    "\n",
    "# Indicate that Data Loading is complete.\n",
    "print(\"-----------------------------\")\n",
    "print(\"Data Retrieval Complete      \")\n",
    "print(\"-----------------------------\")"
   ]
  },
  {
   "cell_type": "code",
   "execution_count": 75,
   "metadata": {},
   "outputs": [
    {
     "name": "stdout",
     "output_type": "stream",
     "text": [
      "538\n",
      "59\n"
     ]
    }
   ],
   "source": [
    "print(len(city_data))\n",
    "print(len(cities_not_located))"
   ]
  },
  {
   "cell_type": "code",
   "execution_count": 77,
   "metadata": {},
   "outputs": [],
   "source": [
    "# Export Path\n",
    "export_path=os.path.join(\"Analysis\",\"WeatherPy_challenge.csv\")\n",
    "\n",
    "pd.DataFrame(city_data).to_csv(export_path)"
   ]
  },
  {
   "cell_type": "code",
   "execution_count": 83,
   "metadata": {},
   "outputs": [
    {
     "name": "stdout",
     "output_type": "stream",
     "text": [
      "45\n",
      "6\n"
     ]
    }
   ],
   "source": [
    "city_weather_df = pd.DataFrame(city_data)\n",
    "\n",
    "citiesW_rain = city_weather_df[city_weather_df['Rainfall'] > 0][\"City\"].count()\n",
    "print(citiesW_rain)\n",
    "\n",
    "citiesW_snow = city_weather_df[city_weather_df['Snowfall'] > 0][\"City\"].count()\n",
    "print(citiesW_snow)"
   ]
  },
  {
   "cell_type": "code",
   "execution_count": null,
   "metadata": {},
   "outputs": [],
   "source": []
  }
 ],
 "metadata": {
  "kernelspec": {
   "display_name": "PythonData",
   "language": "python",
   "name": "pythondata"
  },
  "language_info": {
   "codemirror_mode": {
    "name": "ipython",
    "version": 3
   },
   "file_extension": ".py",
   "mimetype": "text/x-python",
   "name": "python",
   "nbconvert_exporter": "python",
   "pygments_lexer": "ipython3",
   "version": "3.7.7"
  }
 },
 "nbformat": 4,
 "nbformat_minor": 4
}
